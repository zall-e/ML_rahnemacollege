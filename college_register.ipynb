{
 "cells": [
  {
   "cell_type": "code",
   "execution_count": 1,
   "id": "bf6db098",
   "metadata": {},
   "outputs": [],
   "source": [
    "# !pip install pandas numpy"
   ]
  },
  {
   "cell_type": "markdown",
   "id": "a4b6e247",
   "metadata": {},
   "source": [
    "#### load data"
   ]
  },
  {
   "cell_type": "code",
   "execution_count": 2,
   "id": "015412c0",
   "metadata": {},
   "outputs": [],
   "source": [
    "import pandas as pd\n",
    "data = pd.read_csv('challenge.txt', sep='\\t', header=None)"
   ]
  },
  {
   "cell_type": "code",
   "execution_count": 3,
   "metadata": {},
   "outputs": [
    {
     "data": {
      "text/plain": [
       "pandas.core.frame.DataFrame"
      ]
     },
     "execution_count": 3,
     "metadata": {},
     "output_type": "execute_result"
    }
   ],
   "source": [
    "type(data)"
   ]
  },
  {
   "cell_type": "markdown",
   "id": "20644048",
   "metadata": {},
   "source": [
    "#### dim"
   ]
  },
  {
   "cell_type": "code",
   "execution_count": 4,
   "id": "f7c99531",
   "metadata": {},
   "outputs": [
    {
     "data": {
      "text/plain": [
       "(1000, 10)"
      ]
     },
     "execution_count": 4,
     "metadata": {},
     "output_type": "execute_result"
    }
   ],
   "source": [
    "data.shape"
   ]
  },
  {
   "cell_type": "markdown",
   "id": "7de1871a",
   "metadata": {},
   "source": [
    "#### loss data"
   ]
  },
  {
   "cell_type": "code",
   "execution_count": 5,
   "id": "37d4a137",
   "metadata": {},
   "outputs": [
    {
     "data": {
      "text/plain": [
       "0    0\n",
       "1    0\n",
       "2    0\n",
       "3    0\n",
       "4    0\n",
       "5    0\n",
       "6    0\n",
       "7    0\n",
       "8    0\n",
       "9    0\n",
       "dtype: int64"
      ]
     },
     "execution_count": 5,
     "metadata": {},
     "output_type": "execute_result"
    }
   ],
   "source": [
    "data.isnull().sum()"
   ]
  },
  {
   "cell_type": "code",
   "execution_count": 6,
   "id": "f16bd7bc",
   "metadata": {},
   "outputs": [],
   "source": [
    "# ! pip install matplotlib scikit-learn"
   ]
  },
  {
   "cell_type": "code",
   "execution_count": 7,
   "id": "14fe2981",
   "metadata": {},
   "outputs": [],
   "source": [
    "from sklearn.decomposition import PCA\n",
    "import matplotlib.pyplot as plt"
   ]
  },
  {
   "cell_type": "markdown",
   "id": "a1675aca",
   "metadata": {},
   "source": [
    "##### decrease dim 2D(PCA)"
   ]
  },
  {
   "cell_type": "code",
   "execution_count": 8,
   "id": "646f0403",
   "metadata": {},
   "outputs": [],
   "source": [
    "pca = PCA(n_components=2)  # کاهش به 2 بعد\n",
    "data_pca = pca.fit_transform(data)"
   ]
  },
  {
   "cell_type": "code",
   "execution_count": 9,
   "id": "904a103e",
   "metadata": {},
   "outputs": [
    {
     "data": {
      "text/plain": [
       "(1000, 2)"
      ]
     },
     "execution_count": 9,
     "metadata": {},
     "output_type": "execute_result"
    }
   ],
   "source": [
    "data_pca.shape"
   ]
  },
  {
   "cell_type": "code",
   "execution_count": 10,
   "id": "35f82867",
   "metadata": {},
   "outputs": [
    {
     "data": {
      "text/plain": [
       "array([[-16.34240167, -11.48378356],\n",
       "       [-15.96853838, -12.01822726],\n",
       "       [-16.2143533 , -11.57582298],\n",
       "       ...,\n",
       "       [ 25.8474006 ,  -0.29910223],\n",
       "       [ 25.24124265,  -1.96028253],\n",
       "       [ 27.10494104,  -1.43901953]], shape=(1000, 2))"
      ]
     },
     "execution_count": 10,
     "metadata": {},
     "output_type": "execute_result"
    }
   ],
   "source": [
    "data_pca"
   ]
  },
  {
   "cell_type": "code",
   "execution_count": 11,
   "id": "42691c14",
   "metadata": {},
   "outputs": [
    {
     "data": {
      "text/plain": [
       "array([-16.34240167, -15.96853838, -16.2143533 , -15.88371157,\n",
       "       -16.12902811, -16.61248611, -16.42436343, -15.61292098,\n",
       "       -16.15814121, -16.15922889, -15.93691617, -15.9766951 ,\n",
       "       -15.81873953, -15.84866041, -16.5611987 , -16.5261698 ,\n",
       "       -16.10634936, -16.29022841, -16.49672633, -15.49886359,\n",
       "       -16.42048327, -15.69127463, -15.71302339, -16.3701302 ,\n",
       "       -16.50375425, -15.97046266, -15.91525325, -16.08392941,\n",
       "       -16.61255821, -15.958611  , -16.42532334, -16.47721754,\n",
       "       -15.47555277, -15.55986883, -15.89866919, -16.74823977,\n",
       "       -15.75584766, -16.61049333, -16.55086706, -16.89365249,\n",
       "       -16.29886528, -16.64048756, -15.88292362, -15.71132709,\n",
       "       -16.19426372, -15.73905653, -16.86030191, -15.37243201,\n",
       "       -16.53615582, -15.75813261, -15.64645698, -16.17765268,\n",
       "       -16.31952819, -15.42316145, -16.24491959, -15.71093528,\n",
       "       -15.75702709, -16.19073465, -16.53700818, -16.03852865,\n",
       "       -16.27734513, -16.32680677, -16.33010915, -15.73066514,\n",
       "       -16.15090003, -16.78374418, -16.16432687, -16.07991883,\n",
       "       -16.40253613, -16.50948819, -16.03905383, -15.92478976,\n",
       "       -15.83776285, -16.18847282, -16.47536587, -16.80486095,\n",
       "       -16.00425953, -16.38791219, -16.15087715, -16.64606537,\n",
       "       -15.83998409, -16.44866419, -15.94435471, -16.70859335,\n",
       "       -16.60649979, -16.20043211, -16.56535985, -15.72314883,\n",
       "       -16.39930563, -16.78281095, -16.45016753, -16.60835235,\n",
       "       -16.33438244, -16.09607808, -16.69110375, -16.01286952,\n",
       "       -15.52018061, -16.14562505, -16.39404053, -16.26127728,\n",
       "       -13.80745299, -13.9108527 , -13.78412255, -14.01710352,\n",
       "       -13.81320723, -14.0682353 , -14.10741037, -13.82148687,\n",
       "       -13.94355049, -13.85777526, -13.88581414, -14.15095406,\n",
       "       -14.01146218, -13.75856683, -13.81072368, -13.97294389,\n",
       "       -13.93303145, -13.98017294, -14.04814943, -13.9900061 ,\n",
       "       -13.92173253, -13.99547611, -13.90205932, -13.93434344,\n",
       "       -13.92303143, -13.81895204, -13.98124024, -14.02765653,\n",
       "       -13.94280792, -14.12146572, -14.01544614, -13.85618489,\n",
       "       -13.8276075 , -14.85508924, -14.8823969 , -15.03588349,\n",
       "       -15.01465074, -14.9655519 , -14.91155782, -15.18816277,\n",
       "       -14.85937075, -14.96667159, -14.89555804, -15.09671945,\n",
       "       -15.03128789, -14.88029286, -14.98099501, -14.99479854,\n",
       "       -14.98466824, -14.87501367, -15.06013782, -14.7774829 ,\n",
       "       -15.16046375, -15.11901   , -14.83337299, -14.99320842,\n",
       "       -14.98723344, -14.83747467, -15.02445132, -15.0212699 ,\n",
       "       -14.88880728, -15.01624741, -14.91413168, -14.90427026,\n",
       "       -15.06691212, -14.76529914, -14.49236576, -14.5002875 ,\n",
       "       -14.43670777, -14.5722137 , -14.25758985, -14.57597213,\n",
       "       -14.38981205, -14.39489654, -14.48746521, -14.59194041,\n",
       "       -14.48508758, -14.28840208, -14.60202261, -14.51470135,\n",
       "       -14.35566658, -14.57661942, -14.51301943, -14.60266943,\n",
       "       -14.51241921, -14.43817103, -14.37945515, -14.6562618 ,\n",
       "       -14.50935006, -14.52148179, -14.66885038, -14.49711436,\n",
       "       -14.60970356, -14.48086546, -14.66108138, -14.44203613,\n",
       "       -14.71721769, -14.32310718, -14.58510093, -14.66058776,\n",
       "       -17.14544358, -17.00884456, -17.15968728, -16.77155248,\n",
       "       -16.35945869, -17.25816956, -17.04668515, -17.57878501,\n",
       "       -16.88844106, -16.15330318, -17.35507085, -17.81051986,\n",
       "       -17.71088663, -16.62186255, -17.47330777, -16.57348472,\n",
       "       -17.64944697, -18.47783144, -16.66805912, -17.6897116 ,\n",
       "       -16.7768477 , -18.61113879, -16.98755719, -17.19375196,\n",
       "       -16.87520415, -16.84736078, -16.75651039, -16.78523913,\n",
       "       -17.31145508, -17.97894643, -17.99141013, -16.53136896,\n",
       "       -16.71914536, -17.12247085, -17.04725982, -15.45784586,\n",
       "       -16.58009935, -16.75414324, -17.16921928, -18.05956177,\n",
       "       -17.40640133, -17.62127936, -16.85867936, -18.18728355,\n",
       "       -17.99804738, -17.81029645, -17.46755622, -16.45526904,\n",
       "       -17.23925613, -17.88125871, -16.89544677, -17.81558858,\n",
       "       -16.63388251, -16.99656959, -16.32931952, -16.33182853,\n",
       "       -18.00729953, -16.58536666, -18.64754025, -18.15543582,\n",
       "       -17.42369114, -16.80616598, -17.15477698, -17.85168018,\n",
       "       -16.39683965, -16.71377162, -17.23396522, -17.80928545,\n",
       "       -17.18410351, -17.24283224, -18.43450434, -16.46212037,\n",
       "       -17.14281457, -17.14897676, -16.77360536, -16.24757005,\n",
       "       -17.85912543, -17.19502514, -17.0787073 , -16.6311822 ,\n",
       "       -16.31452838, -16.48883997, -17.22960268, -17.34085715,\n",
       "       -16.63984208, -17.68430288, -16.92819128, -17.77132967,\n",
       "       -17.28262771, -17.87809113, -16.86813517, -16.683572  ,\n",
       "       -16.92382702, -16.88248784, -17.40320272, -16.24294915,\n",
       "       -16.84009743, -17.2189449 , -16.50373148, -16.68350439,\n",
       "       -17.09810107, -16.86748268, -16.52128134, -16.90924121,\n",
       "       -16.83930783, -16.20940731, -17.56725159, -17.02958594,\n",
       "       -18.15966495, -16.82458068, -16.9300264 , -17.10370955,\n",
       "       -16.9518519 , -17.14928579, -16.90143869, -17.47719552,\n",
       "       -17.18766808, -16.55667926, -17.87687685, -17.38654256,\n",
       "       -16.76748013, -17.30187913, -18.15765239, -17.22726776,\n",
       "       -16.08710965, -17.22737125, -16.87830001, -17.65149777,\n",
       "       -17.455018  , -17.46269357, -16.57952927, -18.89419576,\n",
       "       -17.87365361, -17.6246584 , -16.8718059 , -15.65714259,\n",
       "       -15.76120427, -18.2677339 , -16.00195901, -17.42760652,\n",
       "       -15.40907114, -14.71144531, -14.48384415, -15.63205403,\n",
       "       -14.55044458, -16.06799173, -16.05292042, -15.71478154,\n",
       "       -15.08613386, -16.5762343 , -15.4664411 , -16.08828687,\n",
       "       -14.94594683, -15.86562402, -14.72951895, -15.16199672,\n",
       "       -14.69614927, -15.93712399, -15.63879438, -14.70035927,\n",
       "       -15.6625293 , -15.38185883, -16.63875583, -14.84600785,\n",
       "       -15.1475866 , -15.88044803, -16.60064185, -16.60135394,\n",
       "       -15.77096903, -15.55843257, -15.49532543, -15.37996405,\n",
       "       -15.59287466, -16.70737945, -15.31082618, -15.9250191 ,\n",
       "       -16.20163805, -14.8245135 , -15.06710208, -15.80592472,\n",
       "       -14.89985571, -15.17362977, -15.86604831, -15.56158979,\n",
       "       -14.71199765, -15.72157438, -15.76254615, -15.25513075,\n",
       "       -16.19395461, -14.18146177, -15.64740208, -15.55351675,\n",
       "       -15.58263823, -15.40746745, -14.71408303, -16.27211882,\n",
       "       -15.26481172, -15.91372083, -16.2846268 , -15.68007412,\n",
       "         6.21530428,   5.40278572,   6.14454617,   4.66119701,\n",
       "         6.27369005,   4.5735655 ,   6.18889695,   4.00329022,\n",
       "         4.00477917,   4.9509598 ,   5.29495762,   4.53509688,\n",
       "         6.11505777,   4.68643808,   6.08820465,   6.21199448,\n",
       "         6.27503079,   5.53693965,   6.25539409,   4.92086039,\n",
       "         4.56676677,   4.81691489,   5.69508907,   4.50816491,\n",
       "         4.3234434 ,   5.3157682 ,   6.29585867,   4.03496433,\n",
       "         5.5201431 ,   4.42538015,   4.06632266,   4.07339595,\n",
       "         5.42231231,   4.15549902,   6.3217335 ,   5.31653032,\n",
       "         5.28646796,   4.03201827,   4.91632436,   3.99789917,\n",
       "         4.16723103,   5.50067214,   6.08453065,   5.26906349,\n",
       "         4.46134422,   6.03271271,   4.93039883,   6.17849936,\n",
       "         5.95143292,   5.00251296,   4.14131478,   4.00619167,\n",
       "         4.03947085,   4.92610469,   4.44932554,   4.66174464,\n",
       "         5.97258443,   3.99672199,   6.27644485,   5.67233161,\n",
       "         6.32269665,   6.15101394,   4.09876137,   4.85129205,\n",
       "         5.03546288,   5.42060643,   4.77502694,   6.02301083,\n",
       "         4.0052895 ,   5.34741369,   5.66834451,   6.26832802,\n",
       "         6.24968512,   4.63021544,   5.18258949,   4.80955261,\n",
       "         5.68760196,   5.49079793,   6.18201286,   4.12612187,\n",
       "         5.54280649,   6.2519115 ,   6.28586066,   4.92312108,\n",
       "         4.02013034,   5.37902805,   4.03154009,   5.64443692,\n",
       "         5.83320928,   6.11783759,   6.16372474,   4.75592898,\n",
       "         5.17076064,   5.87277834,   4.11001689,   4.0211457 ,\n",
       "         4.9639824 ,   6.05328705,   6.14923738,   4.5248869 ,\n",
       "         4.90304487,   4.55391989,   4.15403688,   4.38571085,\n",
       "         3.78437308,   2.85974827,   4.9906609 ,   3.17065458,\n",
       "         3.1367696 ,   4.87409673,   3.5398608 ,   3.33588982,\n",
       "         4.63000009,   4.50888313,   4.64262619,   4.93920937,\n",
       "         4.95430964,   5.11027548,   5.1520412 ,   2.92751694,\n",
       "         5.08597005,   2.8736808 ,   3.18969171,   2.84992755,\n",
       "         5.14344482,   4.69030255,   2.92575549,   4.90496243,\n",
       "         4.56243736,   5.03529621,   3.77477559,   4.26928612,\n",
       "         2.92816317,   2.93870157,   2.90702871,   5.14385504,\n",
       "         5.14954271,   3.15460158,   2.88698623,   3.69805959,\n",
       "         3.05001105,   3.45202256,   4.6542185 ,   4.37762231,\n",
       "         3.63625121,   3.57048267,   2.90428519,   4.38936207,\n",
       "         4.66644578,   3.65232143,   5.00055707,   5.00447966,\n",
       "         5.11155431,   2.99696319,   4.82042347,   5.15889148,\n",
       "         2.84804218,   3.40741379,   5.12946834,   3.56110127,\n",
       "         4.62557841,   3.50134898,   2.85936903,   4.90777521,\n",
       "         3.45746633,   3.45121934,   4.91444393,   3.40176533,\n",
       "         4.90810664,   4.75600154,   2.92995701,   3.85917305,\n",
       "         3.85057406,   4.98231016,   2.86449994,   4.87472089,\n",
       "         2.99919281,   3.62937962,   5.15562145,   3.34957151,\n",
       "         4.39445353,   4.61664946,   4.15089257,   3.84619465,\n",
       "         4.24423419,   4.24849952,   5.15756328,   2.8691081 ,\n",
       "         4.50217392,   5.11867798,   2.87294541,   4.3643556 ,\n",
       "         3.02034016,   4.57750857,   5.05155818,   5.11971768,\n",
       "         4.45903791,   4.85766394,   2.89848068,   2.87447895,\n",
       "         2.8176291 ,   2.05942272,   2.22474206,   3.13047395,\n",
       "         2.61859889,   2.65510982,   2.75714107,   2.03462174,\n",
       "         2.31750442,   2.33404704,   2.2704338 ,   2.8148374 ,\n",
       "         2.61148096,   1.96331417,   2.21674449,   2.5925227 ,\n",
       "         2.30614774,   2.46268528,   2.5533946 ,   2.4967921 ,\n",
       "         2.73241919,   2.39100857,   2.25468386,   2.68491359,\n",
       "         1.86335974,   1.93810538,   2.10723229,   2.51482274,\n",
       "         2.89696038,   2.32562946,   1.86685357,   3.24850761,\n",
       "         1.61711276,   2.33526095,   2.19147022,   2.79744519,\n",
       "         3.1793422 ,   2.53369306,   2.76141784,   2.93921104,\n",
       "         2.23645376,   2.77404214,   2.16093664,   2.27726418,\n",
       "         2.21239579,   2.60525508,   2.19755875,   2.99642514,\n",
       "         2.15941966,   1.74365677,   2.30454754,   2.79222696,\n",
       "         2.34851295,   2.12288174,   1.98392875,   2.55342571,\n",
       "         2.37208209,   2.34051984,   3.08575124,   3.1292457 ,\n",
       "         2.12328225,   2.19969757,   2.92767773,   2.78629015,\n",
       "         2.00796246,   2.77522585,   1.67302478,   2.42655205,\n",
       "         2.05457492,   2.46400234,   2.17501308,   2.23917033,\n",
       "         2.13164536,   2.56545898,   2.98940908,   2.45963083,\n",
       "         2.43144749,   2.61084192,   2.32786903,   2.25282538,\n",
       "         2.54893981,   2.35496731,   2.52817133,   2.14481749,\n",
       "         1.63775581,   2.73142708,   2.31670185,   2.57343305,\n",
       "         2.25181346,   2.52655798,   2.96238519,   2.11296288,\n",
       "         2.56642175,   2.99840655,   1.92567173,   2.35694323,\n",
       "         2.04892515,   1.85093403,   2.82255151,   2.34290813,\n",
       "         3.94531782,   4.34438328,   3.97170853,   3.85917101,\n",
       "         3.74404388,   4.21988629,   4.50646446,   4.16334152,\n",
       "         4.13352016,   3.91721738,   4.03399199,   4.18363768,\n",
       "         3.85486637,   3.56436207,   3.75989177,   4.47890286,\n",
       "         3.81532762,   4.44829498,   3.66481614,   3.92521954,\n",
       "         3.4660422 ,   4.5626703 ,   5.21355846,   4.30923862,\n",
       "         3.9991486 ,   4.18765711,   3.65158849,   4.30879833,\n",
       "         4.236995  ,   5.01339519,   4.57979228,   4.5398119 ,\n",
       "         4.58823413,   4.15899393,   4.41013371,   4.4301477 ,\n",
       "         4.32429693,   3.94899487,   4.16865542,   4.54604341,\n",
       "         4.06269742,   4.17972976,   4.59265622,   4.20431806,\n",
       "         4.56258974,   3.84257636,   4.66563923,   3.64148404,\n",
       "         4.08132352,   4.31986634,   4.62834153,   3.60783266,\n",
       "         4.26746507,   4.34019338,   4.57233325,   3.96262748,\n",
       "         4.68759624,   4.23590004,   4.19500495,   4.50740795,\n",
       "         3.6487816 ,   4.40169868,   4.37151366,   4.03122163,\n",
       "         3.74777907,   4.11078701,   4.05128136,   3.77024139,\n",
       "         3.85796939,   4.81226179,   4.21006238,   3.91668858,\n",
       "         4.50382965,   4.80677594,   4.80392663,   4.25192556,\n",
       "         4.3248244 ,   4.05853638,   4.55142875,   4.14888429,\n",
       "         4.14780802,   3.85407706,   4.49237362,   3.93225886,\n",
       "         3.70532676,   4.23129126,   3.83282539,   3.66789595,\n",
       "         3.83690859,   3.88312546,   4.19882499,   3.50111821,\n",
       "         4.44348219,   4.53683316,   4.46980941,   3.96086084,\n",
       "         4.01299193,   4.08270798,   4.42649102,   3.95463642,\n",
       "        21.19693754,  21.41369193,  21.95761258,  20.87994205,\n",
       "        20.45165874,  21.12456437,  21.4650675 ,  21.59502458,\n",
       "        21.00566209,  21.21908797,  20.52155812,  20.8397973 ,\n",
       "        20.89039906,  20.70156135,  19.97863271,  21.18236075,\n",
       "        21.52172079,  21.21375058,  20.59595434,  19.98132088,\n",
       "        20.50204752,  20.71535911,  21.67895225,  20.80448383,\n",
       "        21.13978344,  20.63731871,  21.33469145,  20.58481983,\n",
       "        21.40441006,  21.1968172 ,  21.76928259,  20.7477923 ,\n",
       "        21.08997483,  21.37041574,  21.60247196,  20.83078692,\n",
       "        20.80557166,  21.88687659,  20.87995478,  21.02858857,\n",
       "        20.56982981,  21.29413326,  20.82084721,  21.28222489,\n",
       "        21.29633098,  20.7553638 ,  21.68572969,  20.91395581,\n",
       "        20.5681406 ,  20.23272764,  24.88124584,  22.9406947 ,\n",
       "        23.20409616,  22.87494231,  24.97891453,  23.51441987,\n",
       "        21.80532686,  24.13251856,  22.11198521,  22.98852006,\n",
       "        25.42783638,  25.88574038,  24.60026454,  24.53112879,\n",
       "        22.21037079,  22.60968369,  21.81999809,  22.61959349,\n",
       "        24.55999389,  24.58198802,  25.22875759,  22.5998781 ,\n",
       "        24.4136488 ,  23.15652418,  24.06119205,  22.46921331,\n",
       "        24.0311227 ,  23.5398282 ,  23.97761377,  22.05652379,\n",
       "        23.00075686,  25.61762641,  22.46461926,  25.68670439,\n",
       "        22.22833784,  23.11361629,  24.31491972,  23.06301337,\n",
       "        22.52392967,  22.85832106,  21.55164663,  24.53464137,\n",
       "        22.40149071,  25.00193273,  25.84966303,  22.64905025,\n",
       "        23.00196698,  24.11773107,  22.97775195,  25.64019151,\n",
       "        26.03246076,  25.84936951,  25.70554938,  25.68240196,\n",
       "        26.02091339,  25.66833082,  25.30444017,  25.82763403,\n",
       "        25.43658816,  25.74474604,  25.72094113,  25.85302064,\n",
       "        26.07537789,  25.81938411,  25.8477047 ,  25.58783801,\n",
       "        25.7951177 ,  25.46931443,  25.4711461 ,  25.69876469,\n",
       "        25.82050041,  25.76869573,  25.6524821 ,  25.84019612,\n",
       "        26.08453811,  25.743084  ,  25.61825273,  26.02375032,\n",
       "        25.58041022,  26.19439037,  25.78407057,  26.04123423,\n",
       "        25.7649773 ,  25.67724399,  26.28483929,  25.87355416,\n",
       "        25.58082485,  25.92729368,  25.97268861,  25.71267874,\n",
       "        25.81718421,  26.26748938,  25.96875933,  25.63678686,\n",
       "        26.00249951,  25.35797825,  25.79882888,  25.56669229,\n",
       "        25.86195783,  25.54007932,  24.85947768,  25.56605647,\n",
       "        26.29749549,  25.53329222,  25.61595013,  25.49208526,\n",
       "        25.95094873,  25.48508712,  26.01773024,  25.44865943,\n",
       "        25.47668599,  26.14863079,  25.68258805,  25.81758898,\n",
       "        26.1319678 ,  25.96664375,  26.46929205,  25.72347047,\n",
       "        25.79876811,  26.31157235,  26.14822063,  25.21444711,\n",
       "        25.0927438 ,  25.71355972,  25.81921122,  25.35567807,\n",
       "        26.74194064,  26.41115802,  25.42827947,  25.76786483,\n",
       "        25.38623563,  26.43818861,  25.90597621,  25.67262104,\n",
       "        25.73281362,  25.46783529,  25.418635  ,  25.38964572,\n",
       "        25.90481711,  26.04980413,  25.66654743,  26.08287364,\n",
       "        26.08890978,  25.76348217,  25.48339866,  25.48346177,\n",
       "        26.01741241,  25.8474006 ,  25.24124265,  27.10494104])"
      ]
     },
     "execution_count": 11,
     "metadata": {},
     "output_type": "execute_result"
    }
   ],
   "source": [
    "data_pca[:,0]"
   ]
  },
  {
   "cell_type": "code",
   "execution_count": 12,
   "id": "b8012f1a",
   "metadata": {},
   "outputs": [
    {
     "data": {
      "image/png": "[encoded data removed]",
      "text/plain": [
       "<Figure size 640x480 with 1 Axes>"
      ]
     },
     "metadata": {},
     "output_type": "display_data"
    }
   ],
   "source": [
    "plt.scatter(data_pca[:,0], data_pca[:,1])\n",
    "\n",
    "plt.title('PCA')\n",
    "plt.xlabel('Principal Component 1')\n",
    "plt.ylabel('Principal Component 2')\n",
    "plt.show()"
   ]
  },
  {
   "cell_type": "markdown",
   "id": "0fbdcdf0",
   "metadata": {},
   "source": [
    "##### decrease dim 2D(TSNE)"
   ]
  },
  {
   "cell_type": "code",
   "execution_count": 13,
   "id": "ec6c1612",
   "metadata": {},
   "outputs": [],
   "source": [
    "from sklearn.manifold import TSNE"
   ]
  },
  {
   "cell_type": "code",
   "execution_count": 14,
   "id": "c9d988ef",
   "metadata": {},
   "outputs": [],
   "source": [
    "tsne = TSNE(n_components=2, random_state=79)\n",
    "data_tsne = tsne.fit_transform(data)"
   ]
  },
  {
   "cell_type": "code",
   "execution_count": 15,
   "id": "a6208902",
   "metadata": {},
   "outputs": [
    {
     "data": {
      "image/png": "[encoded data removed]",
      "text/plain": [
       "<Figure size 640x480 with 1 Axes>"
      ]
     },
     "metadata": {},
     "output_type": "display_data"
    }
   ],
   "source": [
    "plt.scatter(data_pca[:,0], data_pca[:,1])\n",
    "\n",
    "plt.title('TSNE')\n",
    "plt.xlabel('Principal Component 1')\n",
    "plt.ylabel('Principal Component 2')\n",
    "plt.show()"
   ]
  },
  {
   "cell_type": "code",
   "execution_count": 16,
   "id": "3c865940",
   "metadata": {},
   "outputs": [
    {
     "data": {
      "text/plain": [
       "np.float64(7.105427357601002e-17)"
      ]
     },
     "execution_count": 16,
     "metadata": {},
     "output_type": "execute_result"
    }
   ],
   "source": [
    "data[3].mean()"
   ]
  },
  {
   "cell_type": "code",
   "execution_count": 17,
   "id": "7139f256",
   "metadata": {},
   "outputs": [
    {
     "name": "stdout",
     "output_type": "stream",
     "text": [
      "میانگین هر ویژگی:\n"
     ]
    },
    {
     "data": {
      "text/plain": [
       "0    9.600000e+00\n",
       "1    1.600000e+01\n",
       "2    7.105427e-17\n",
       "3    7.105427e-17\n",
       "4    5.684342e-17\n",
       "5   -8.526513e-17\n",
       "6   -2.842171e-17\n",
       "7    4.973799e-17\n",
       "8    7.105427e-17\n",
       "9    3.552714e-17\n",
       "dtype: float64"
      ]
     },
     "execution_count": 17,
     "metadata": {},
     "output_type": "execute_result"
    }
   ],
   "source": [
    "mean_values = data.mean()\n",
    "\n",
    "print(\"میانگین هر ویژگی:\")\n",
    "mean_values"
   ]
  },
  {
   "cell_type": "code",
   "execution_count": 18,
   "id": "0765b647",
   "metadata": {},
   "outputs": [
    {
     "name": "stdout",
     "output_type": "stream",
     "text": [
      "میانه هر ویژگی:\n"
     ]
    },
    {
     "data": {
      "text/plain": [
       "0     7.299342\n",
       "1    19.141101\n",
       "2     0.161230\n",
       "3     0.000000\n",
       "4     0.000000\n",
       "5     0.000000\n",
       "6     0.000000\n",
       "7     0.000000\n",
       "8     0.000000\n",
       "9     0.000000\n",
       "dtype: float64"
      ]
     },
     "execution_count": 18,
     "metadata": {},
     "output_type": "execute_result"
    }
   ],
   "source": [
    "median_values = data.median()\n",
    "\n",
    "print(\"میانه هر ویژگی:\")\n",
    "median_values"
   ]
  },
  {
   "cell_type": "code",
   "execution_count": 19,
   "id": "08cc05a1",
   "metadata": {},
   "outputs": [
    {
     "name": "stdout",
     "output_type": "stream",
     "text": [
      "انحراف معیار هر ویژگی:\n"
     ]
    },
    {
     "data": {
      "text/plain": [
       "0     9.072724\n",
       "1    15.027236\n",
       "2     1.262376\n",
       "3     0.997996\n",
       "4     0.446317\n",
       "5     0.446317\n",
       "6     0.446317\n",
       "7     0.446317\n",
       "8     0.446317\n",
       "9     0.446317\n",
       "dtype: float64"
      ]
     },
     "execution_count": 19,
     "metadata": {},
     "output_type": "execute_result"
    }
   ],
   "source": [
    "std_values = data.std()\n",
    "\n",
    "print(\"انحراف معیار هر ویژگی:\")\n",
    "std_values"
   ]
  },
  {
   "cell_type": "code",
   "execution_count": 20,
   "id": "a40a10bb",
   "metadata": {},
   "outputs": [
    {
     "data": {
      "image/png": "[encoded data removed]",
      "text/plain": [
       "<Figure size 1200x800 with 12 Axes>"
      ]
     },
     "metadata": {},
     "output_type": "display_data"
    }
   ],
   "source": [
    "data.hist(figsize=(12, 8))\n",
    "plt.show()"
   ]
  },
  {
   "cell_type": "markdown",
   "id": "01ca0736",
   "metadata": {},
   "source": [
    "ستونهایی مثل 0 و 1 احتمالاً توزیع غیرنرمال و چندقله ای دارند که میتواند نشاندهنده پیچیدگی ساختار داده یا وجود گروههای پنهان باشد.\n",
    "\n",
    "ستونهایی مثل 4 تا 9 با توزیع متمرکز و تقریباً نرمال، بیشتر شبیه دادههای نرمال یا با نویز کم هستند."
   ]
  },
  {
   "cell_type": "code",
   "execution_count": 31,
   "id": "46ec5bc4",
   "metadata": {},
   "outputs": [],
   "source": [
    "correlation_matrix = data.corr()"
   ]
  },
  {
   "cell_type": "code",
   "execution_count": 22,
   "id": "88f911c3",
   "metadata": {},
   "outputs": [
    {
     "data": {
      "text/html": [
       "<div>\n",
       "<style scoped>\n",
       "    .dataframe tbody tr th:only-of-type {\n",
       "        vertical-align: middle;\n",
       "    }\n",
       "\n",
       "    .dataframe tbody tr th {\n",
       "        vertical-align: top;\n",
       "    }\n",
       "\n",
       "    .dataframe thead th {\n",
       "        text-align: right;\n",
       "    }\n",
       "</style>\n",
       "<table border=\"1\" class=\"dataframe\">\n",
       "  <thead>\n",
       "    <tr style=\"text-align: right;\">\n",
       "      <th></th>\n",
       "      <th>0</th>\n",
       "      <th>1</th>\n",
       "      <th>2</th>\n",
       "      <th>3</th>\n",
       "      <th>4</th>\n",
       "      <th>5</th>\n",
       "      <th>6</th>\n",
       "      <th>7</th>\n",
       "      <th>8</th>\n",
       "      <th>9</th>\n",
       "    </tr>\n",
       "  </thead>\n",
       "  <tbody>\n",
       "    <tr>\n",
       "      <th>0</th>\n",
       "      <td>-0.768094</td>\n",
       "      <td>-1.062899</td>\n",
       "      <td>-1.502895</td>\n",
       "      <td>0.000000</td>\n",
       "      <td>0.0</td>\n",
       "      <td>0.0</td>\n",
       "      <td>0.0</td>\n",
       "      <td>0.0</td>\n",
       "      <td>0.0</td>\n",
       "      <td>0.0</td>\n",
       "    </tr>\n",
       "    <tr>\n",
       "      <th>1</th>\n",
       "      <td>-1.326407</td>\n",
       "      <td>-0.725706</td>\n",
       "      <td>-1.436839</td>\n",
       "      <td>0.000000</td>\n",
       "      <td>0.0</td>\n",
       "      <td>0.0</td>\n",
       "      <td>0.0</td>\n",
       "      <td>0.0</td>\n",
       "      <td>0.0</td>\n",
       "      <td>0.0</td>\n",
       "    </tr>\n",
       "    <tr>\n",
       "      <th>2</th>\n",
       "      <td>-0.870501</td>\n",
       "      <td>-0.944614</td>\n",
       "      <td>-0.796163</td>\n",
       "      <td>0.000000</td>\n",
       "      <td>0.0</td>\n",
       "      <td>0.0</td>\n",
       "      <td>0.0</td>\n",
       "      <td>0.0</td>\n",
       "      <td>0.0</td>\n",
       "      <td>0.0</td>\n",
       "    </tr>\n",
       "    <tr>\n",
       "      <th>3</th>\n",
       "      <td>-1.198228</td>\n",
       "      <td>-0.633996</td>\n",
       "      <td>-1.031985</td>\n",
       "      <td>0.000000</td>\n",
       "      <td>0.0</td>\n",
       "      <td>0.0</td>\n",
       "      <td>0.0</td>\n",
       "      <td>0.0</td>\n",
       "      <td>0.0</td>\n",
       "      <td>0.0</td>\n",
       "    </tr>\n",
       "    <tr>\n",
       "      <th>4</th>\n",
       "      <td>-0.581253</td>\n",
       "      <td>-0.839979</td>\n",
       "      <td>-0.762256</td>\n",
       "      <td>0.000000</td>\n",
       "      <td>0.0</td>\n",
       "      <td>0.0</td>\n",
       "      <td>0.0</td>\n",
       "      <td>0.0</td>\n",
       "      <td>0.0</td>\n",
       "      <td>0.0</td>\n",
       "    </tr>\n",
       "    <tr>\n",
       "      <th>...</th>\n",
       "      <td>...</td>\n",
       "      <td>...</td>\n",
       "      <td>...</td>\n",
       "      <td>...</td>\n",
       "      <td>...</td>\n",
       "      <td>...</td>\n",
       "      <td>...</td>\n",
       "      <td>...</td>\n",
       "      <td>...</td>\n",
       "      <td>...</td>\n",
       "    </tr>\n",
       "    <tr>\n",
       "      <th>995</th>\n",
       "      <td>8.615801</td>\n",
       "      <td>41.448963</td>\n",
       "      <td>3.758721</td>\n",
       "      <td>3.910819</td>\n",
       "      <td>0.0</td>\n",
       "      <td>0.0</td>\n",
       "      <td>0.0</td>\n",
       "      <td>0.0</td>\n",
       "      <td>0.0</td>\n",
       "      <td>0.0</td>\n",
       "    </tr>\n",
       "    <tr>\n",
       "      <th>996</th>\n",
       "      <td>8.360474</td>\n",
       "      <td>41.978658</td>\n",
       "      <td>2.164121</td>\n",
       "      <td>1.970064</td>\n",
       "      <td>0.0</td>\n",
       "      <td>0.0</td>\n",
       "      <td>0.0</td>\n",
       "      <td>0.0</td>\n",
       "      <td>0.0</td>\n",
       "      <td>0.0</td>\n",
       "    </tr>\n",
       "    <tr>\n",
       "      <th>997</th>\n",
       "      <td>7.575436</td>\n",
       "      <td>41.752979</td>\n",
       "      <td>1.839834</td>\n",
       "      <td>3.986019</td>\n",
       "      <td>0.0</td>\n",
       "      <td>0.0</td>\n",
       "      <td>0.0</td>\n",
       "      <td>0.0</td>\n",
       "      <td>0.0</td>\n",
       "      <td>0.0</td>\n",
       "    </tr>\n",
       "    <tr>\n",
       "      <th>998</th>\n",
       "      <td>5.955357</td>\n",
       "      <td>41.034620</td>\n",
       "      <td>3.164139</td>\n",
       "      <td>2.561729</td>\n",
       "      <td>0.0</td>\n",
       "      <td>0.0</td>\n",
       "      <td>0.0</td>\n",
       "      <td>0.0</td>\n",
       "      <td>0.0</td>\n",
       "      <td>0.0</td>\n",
       "    </tr>\n",
       "    <tr>\n",
       "      <th>999</th>\n",
       "      <td>6.352264</td>\n",
       "      <td>42.932004</td>\n",
       "      <td>3.416055</td>\n",
       "      <td>0.649748</td>\n",
       "      <td>0.0</td>\n",
       "      <td>0.0</td>\n",
       "      <td>0.0</td>\n",
       "      <td>0.0</td>\n",
       "      <td>0.0</td>\n",
       "      <td>0.0</td>\n",
       "    </tr>\n",
       "  </tbody>\n",
       "</table>\n",
       "<p>1000 rows × 10 columns</p>\n",
       "</div>"
      ],
      "text/plain": [
       "            0          1         2         3    4    5    6    7    8    9\n",
       "0   -0.768094  -1.062899 -1.502895  0.000000  0.0  0.0  0.0  0.0  0.0  0.0\n",
       "1   -1.326407  -0.725706 -1.436839  0.000000  0.0  0.0  0.0  0.0  0.0  0.0\n",
       "2   -0.870501  -0.944614 -0.796163  0.000000  0.0  0.0  0.0  0.0  0.0  0.0\n",
       "3   -1.198228  -0.633996 -1.031985  0.000000  0.0  0.0  0.0  0.0  0.0  0.0\n",
       "4   -0.581253  -0.839979 -0.762256  0.000000  0.0  0.0  0.0  0.0  0.0  0.0\n",
       "..        ...        ...       ...       ...  ...  ...  ...  ...  ...  ...\n",
       "995  8.615801  41.448963  3.758721  3.910819  0.0  0.0  0.0  0.0  0.0  0.0\n",
       "996  8.360474  41.978658  2.164121  1.970064  0.0  0.0  0.0  0.0  0.0  0.0\n",
       "997  7.575436  41.752979  1.839834  3.986019  0.0  0.0  0.0  0.0  0.0  0.0\n",
       "998  5.955357  41.034620  3.164139  2.561729  0.0  0.0  0.0  0.0  0.0  0.0\n",
       "999  6.352264  42.932004  3.416055  0.649748  0.0  0.0  0.0  0.0  0.0  0.0\n",
       "\n",
       "[1000 rows x 10 columns]"
      ]
     },
     "execution_count": 22,
     "metadata": {},
     "output_type": "execute_result"
    }
   ],
   "source": [
    "data"
   ]
  },
  {
   "cell_type": "code",
   "execution_count": null,
   "id": "f1da8143",
   "metadata": {},
   "outputs": [],
   "source": [
    "# !pip install seaborn"
   ]
  },
  {
   "cell_type": "code",
   "execution_count": 25,
   "id": "7541d8ea",
   "metadata": {},
   "outputs": [],
   "source": [
    "import seaborn as sns"
   ]
  },
  {
   "cell_type": "code",
   "execution_count": 26,
   "id": "4e86e067",
   "metadata": {},
   "outputs": [
    {
     "data": {
      "text/plain": [
       "Text(0.5, 1.0, 'correlation matrix')"
      ]
     },
     "execution_count": 26,
     "metadata": {},
     "output_type": "execute_result"
    },
    {
     "data": {
      "image/png": "[encoded data removed]",
      "text/plain": [
       "<Figure size 1000x800 with 2 Axes>"
      ]
     },
     "metadata": {},
     "output_type": "display_data"
    }
   ],
   "source": [
    "plt.figure(figsize=(10, 8))\n",
    "sns.heatmap(correlation_matrix, annot=True,  fmt=\".2f\", cmap='coolwarm')\n",
    "plt.title(\"correlation matrix\")"
   ]
  },
  {
   "cell_type": "markdown",
   "id": "f5f96a43",
   "metadata": {},
   "source": [
    "ویژگی هایی که بیشتر از 0.7 و کمتر از منفی 0.7 هستن بیشترین همبستگی را دارند که در این نمونه ویژگی 4 تا 9 میشود."
   ]
  },
  {
   "cell_type": "markdown",
   "id": "6843c0d0",
   "metadata": {},
   "source": [
    "##### K-Means Clustering"
   ]
  },
  {
   "cell_type": "code",
   "execution_count": 171,
   "id": "a56f8501",
   "metadata": {},
   "outputs": [],
   "source": [
    "from sklearn.cluster import KMeans\n",
    "\n",
    "kmeans = KMeans(n_clusters=5, random_state=0)\n",
    "cluster_kmean = kmeans.fit_predict(data)"
   ]
  },
  {
   "cell_type": "code",
   "execution_count": 172,
   "id": "9bb149fd",
   "metadata": {},
   "outputs": [],
   "source": [
    "# cluster_kmean"
   ]
  },
  {
   "cell_type": "markdown",
   "id": "ffb73994",
   "metadata": {},
   "source": [
    "##### DBSCAN Clustering"
   ]
  },
  {
   "cell_type": "code",
   "execution_count": 173,
   "id": "96d40cc0",
   "metadata": {},
   "outputs": [],
   "source": [
    "from sklearn.cluster import DBSCAN\n",
    "\n",
    "dbscan = DBSCAN(eps=2.5, min_samples=5)\n",
    "cluster_dbscan = dbscan.fit_predict(data)"
   ]
  },
  {
   "cell_type": "code",
   "execution_count": 174,
   "id": "5c43e517",
   "metadata": {},
   "outputs": [],
   "source": [
    "# cluster_dbscan"
   ]
  },
  {
   "cell_type": "markdown",
   "id": "6925442b",
   "metadata": {},
   "source": [
    "##### Hierarchical Clustering"
   ]
  },
  {
   "cell_type": "code",
   "execution_count": 175,
   "id": "441b4fe5",
   "metadata": {},
   "outputs": [],
   "source": [
    "from sklearn.cluster import AgglomerativeClustering\n",
    "\n",
    "hier = AgglomerativeClustering(n_clusters=6)\n",
    "cluster_hier = hier.fit_predict(data)"
   ]
  },
  {
   "cell_type": "code",
   "execution_count": 176,
   "id": "fc8882e1",
   "metadata": {},
   "outputs": [
    {
     "data": {
      "text/html": [
       "<style>#sk-container-id-17 {\n",
       "  /* Definition of color scheme common for light and dark mode */\n",
       "  --sklearn-color-text: #000;\n",
       "  --sklearn-color-text-muted: #666;\n",
       "  --sklearn-color-line: gray;\n",
       "  /* Definition of color scheme for unfitted estimators */\n",
       "  --sklearn-color-unfitted-level-0: #fff5e6;\n",
       "  --sklearn-color-unfitted-level-1: #f6e4d2;\n",
       "  --sklearn-color-unfitted-level-2: #ffe0b3;\n",
       "  --sklearn-color-unfitted-level-3: chocolate;\n",
       "  /* Definition of color scheme for fitted estimators */\n",
       "  --sklearn-color-fitted-level-0: #f0f8ff;\n",
       "  --sklearn-color-fitted-level-1: #d4ebff;\n",
       "  --sklearn-color-fitted-level-2: #b3dbfd;\n",
       "  --sklearn-color-fitted-level-3: cornflowerblue;\n",
       "\n",
       "  /* Specific color for light theme */\n",
       "  --sklearn-color-text-on-default-background: var(--sg-text-color, var(--theme-code-foreground, var(--jp-content-font-color1, black)));\n",
       "  --sklearn-color-background: var(--sg-background-color, var(--theme-background, var(--jp-layout-color0, white)));\n",
       "  --sklearn-color-border-box: var(--sg-text-color, var(--theme-code-foreground, var(--jp-content-font-color1, black)));\n",
       "  --sklearn-color-icon: #696969;\n",
       "\n",
       "  @media (prefers-color-scheme: dark) {\n",
       "    /* Redefinition of color scheme for dark theme */\n",
       "    --sklearn-color-text-on-default-background: var(--sg-text-color, var(--theme-code-foreground, var(--jp-content-font-color1, white)));\n",
       "    --sklearn-color-background: var(--sg-background-color, var(--theme-background, var(--jp-layout-color0, #111)));\n",
       "    --sklearn-color-border-box: var(--sg-text-color, var(--theme-code-foreground, var(--jp-content-font-color1, white)));\n",
       "    --sklearn-color-icon: #878787;\n",
       "  }\n",
       "}\n",
       "\n",
       "#sk-container-id-17 {\n",
       "  color: var(--sklearn-color-text);\n",
       "}\n",
       "\n",
       "#sk-container-id-17 pre {\n",
       "  padding: 0;\n",
       "}\n",
       "\n",
       "#sk-container-id-17 input.sk-hidden--visually {\n",
       "  border: 0;\n",
       "  clip: rect(1px 1px 1px 1px);\n",
       "  clip: rect(1px, 1px, 1px, 1px);\n",
       "  height: 1px;\n",
       "  margin: -1px;\n",
       "  overflow: hidden;\n",
       "  padding: 0;\n",
       "  position: absolute;\n",
       "  width: 1px;\n",
       "}\n",
       "\n",
       "#sk-container-id-17 div.sk-dashed-wrapped {\n",
       "  border: 1px dashed var(--sklearn-color-line);\n",
       "  margin: 0 0.4em 0.5em 0.4em;\n",
       "  box-sizing: border-box;\n",
       "  padding-bottom: 0.4em;\n",
       "  background-color: var(--sklearn-color-background);\n",
       "}\n",
       "\n",
       "#sk-container-id-17 div.sk-container {\n",
       "  /* jupyter's `normalize.less` sets `[hidden] { display: none; }`\n",
       "     but bootstrap.min.css set `[hidden] { display: none !important; }`\n",
       "     so we also need the `!important` here to be able to override the\n",
       "     default hidden behavior on the sphinx rendered scikit-learn.org.\n",
       "     See: https://github.com/scikit-learn/scikit-learn/issues/21755 */\n",
       "  display: inline-block !important;\n",
       "  position: relative;\n",
       "}\n",
       "\n",
       "#sk-container-id-17 div.sk-text-repr-fallback {\n",
       "  display: none;\n",
       "}\n",
       "\n",
       "div.sk-parallel-item,\n",
       "div.sk-serial,\n",
       "div.sk-item {\n",
       "  /* draw centered vertical line to link estimators */\n",
       "  background-image: linear-gradient(var(--sklearn-color-text-on-default-background), var(--sklearn-color-text-on-default-background));\n",
       "  background-size: 2px 100%;\n",
       "  background-repeat: no-repeat;\n",
       "  background-position: center center;\n",
       "}\n",
       "\n",
       "/* Parallel-specific style estimator block */\n",
       "\n",
       "#sk-container-id-17 div.sk-parallel-item::after {\n",
       "  content: \"\";\n",
       "  width: 100%;\n",
       "  border-bottom: 2px solid var(--sklearn-color-text-on-default-background);\n",
       "  flex-grow: 1;\n",
       "}\n",
       "\n",
       "#sk-container-id-17 div.sk-parallel {\n",
       "  display: flex;\n",
       "  align-items: stretch;\n",
       "  justify-content: center;\n",
       "  background-color: var(--sklearn-color-background);\n",
       "  position: relative;\n",
       "}\n",
       "\n",
       "#sk-container-id-17 div.sk-parallel-item {\n",
       "  display: flex;\n",
       "  flex-direction: column;\n",
       "}\n",
       "\n",
       "#sk-container-id-17 div.sk-parallel-item:first-child::after {\n",
       "  align-self: flex-end;\n",
       "  width: 50%;\n",
       "}\n",
       "\n",
       "#sk-container-id-17 div.sk-parallel-item:last-child::after {\n",
       "  align-self: flex-start;\n",
       "  width: 50%;\n",
       "}\n",
       "\n",
       "#sk-container-id-17 div.sk-parallel-item:only-child::after {\n",
       "  width: 0;\n",
       "}\n",
       "\n",
       "/* Serial-specific style estimator block */\n",
       "\n",
       "#sk-container-id-17 div.sk-serial {\n",
       "  display: flex;\n",
       "  flex-direction: column;\n",
       "  align-items: center;\n",
       "  background-color: var(--sklearn-color-background);\n",
       "  padding-right: 1em;\n",
       "  padding-left: 1em;\n",
       "}\n",
       "\n",
       "\n",
       "/* Toggleable style: style used for estimator/Pipeline/ColumnTransformer box that is\n",
       "clickable and can be expanded/collapsed.\n",
       "- Pipeline and ColumnTransformer use this feature and define the default style\n",
       "- Estimators will overwrite some part of the style using the `sk-estimator` class\n",
       "*/\n",
       "\n",
       "/* Pipeline and ColumnTransformer style (default) */\n",
       "\n",
       "#sk-container-id-17 div.sk-toggleable {\n",
       "  /* Default theme specific background. It is overwritten whether we have a\n",
       "  specific estimator or a Pipeline/ColumnTransformer */\n",
       "  background-color: var(--sklearn-color-background);\n",
       "}\n",
       "\n",
       "/* Toggleable label */\n",
       "#sk-container-id-17 label.sk-toggleable__label {\n",
       "  cursor: pointer;\n",
       "  display: flex;\n",
       "  width: 100%;\n",
       "  margin-bottom: 0;\n",
       "  padding: 0.5em;\n",
       "  box-sizing: border-box;\n",
       "  text-align: center;\n",
       "  align-items: start;\n",
       "  justify-content: space-between;\n",
       "  gap: 0.5em;\n",
       "}\n",
       "\n",
       "#sk-container-id-17 label.sk-toggleable__label .caption {\n",
       "  font-size: 0.6rem;\n",
       "  font-weight: lighter;\n",
       "  color: var(--sklearn-color-text-muted);\n",
       "}\n",
       "\n",
       "#sk-container-id-17 label.sk-toggleable__label-arrow:before {\n",
       "  /* Arrow on the left of the label */\n",
       "  content: \"▸\";\n",
       "  float: left;\n",
       "  margin-right: 0.25em;\n",
       "  color: var(--sklearn-color-icon);\n",
       "}\n",
       "\n",
       "#sk-container-id-17 label.sk-toggleable__label-arrow:hover:before {\n",
       "  color: var(--sklearn-color-text);\n",
       "}\n",
       "\n",
       "/* Toggleable content - dropdown */\n",
       "\n",
       "#sk-container-id-17 div.sk-toggleable__content {\n",
       "  display: none;\n",
       "  text-align: left;\n",
       "  /* unfitted */\n",
       "  background-color: var(--sklearn-color-unfitted-level-0);\n",
       "}\n",
       "\n",
       "#sk-container-id-17 div.sk-toggleable__content.fitted {\n",
       "  /* fitted */\n",
       "  background-color: var(--sklearn-color-fitted-level-0);\n",
       "}\n",
       "\n",
       "#sk-container-id-17 div.sk-toggleable__content pre {\n",
       "  margin: 0.2em;\n",
       "  border-radius: 0.25em;\n",
       "  color: var(--sklearn-color-text);\n",
       "  /* unfitted */\n",
       "  background-color: var(--sklearn-color-unfitted-level-0);\n",
       "}\n",
       "\n",
       "#sk-container-id-17 div.sk-toggleable__content.fitted pre {\n",
       "  /* unfitted */\n",
       "  background-color: var(--sklearn-color-fitted-level-0);\n",
       "}\n",
       "\n",
       "#sk-container-id-17 input.sk-toggleable__control:checked~div.sk-toggleable__content {\n",
       "  /* Expand drop-down */\n",
       "  display: block;\n",
       "  width: 100%;\n",
       "  overflow: visible;\n",
       "}\n",
       "\n",
       "#sk-container-id-17 input.sk-toggleable__control:checked~label.sk-toggleable__label-arrow:before {\n",
       "  content: \"▾\";\n",
       "}\n",
       "\n",
       "/* Pipeline/ColumnTransformer-specific style */\n",
       "\n",
       "#sk-container-id-17 div.sk-label input.sk-toggleable__control:checked~label.sk-toggleable__label {\n",
       "  color: var(--sklearn-color-text);\n",
       "  background-color: var(--sklearn-color-unfitted-level-2);\n",
       "}\n",
       "\n",
       "#sk-container-id-17 div.sk-label.fitted input.sk-toggleable__control:checked~label.sk-toggleable__label {\n",
       "  background-color: var(--sklearn-color-fitted-level-2);\n",
       "}\n",
       "\n",
       "/* Estimator-specific style */\n",
       "\n",
       "/* Colorize estimator box */\n",
       "#sk-container-id-17 div.sk-estimator input.sk-toggleable__control:checked~label.sk-toggleable__label {\n",
       "  /* unfitted */\n",
       "  background-color: var(--sklearn-color-unfitted-level-2);\n",
       "}\n",
       "\n",
       "#sk-container-id-17 div.sk-estimator.fitted input.sk-toggleable__control:checked~label.sk-toggleable__label {\n",
       "  /* fitted */\n",
       "  background-color: var(--sklearn-color-fitted-level-2);\n",
       "}\n",
       "\n",
       "#sk-container-id-17 div.sk-label label.sk-toggleable__label,\n",
       "#sk-container-id-17 div.sk-label label {\n",
       "  /* The background is the default theme color */\n",
       "  color: var(--sklearn-color-text-on-default-background);\n",
       "}\n",
       "\n",
       "/* On hover, darken the color of the background */\n",
       "#sk-container-id-17 div.sk-label:hover label.sk-toggleable__label {\n",
       "  color: var(--sklearn-color-text);\n",
       "  background-color: var(--sklearn-color-unfitted-level-2);\n",
       "}\n",
       "\n",
       "/* Label box, darken color on hover, fitted */\n",
       "#sk-container-id-17 div.sk-label.fitted:hover label.sk-toggleable__label.fitted {\n",
       "  color: var(--sklearn-color-text);\n",
       "  background-color: var(--sklearn-color-fitted-level-2);\n",
       "}\n",
       "\n",
       "/* Estimator label */\n",
       "\n",
       "#sk-container-id-17 div.sk-label label {\n",
       "  font-family: monospace;\n",
       "  font-weight: bold;\n",
       "  display: inline-block;\n",
       "  line-height: 1.2em;\n",
       "}\n",
       "\n",
       "#sk-container-id-17 div.sk-label-container {\n",
       "  text-align: center;\n",
       "}\n",
       "\n",
       "/* Estimator-specific */\n",
       "#sk-container-id-17 div.sk-estimator {\n",
       "  font-family: monospace;\n",
       "  border: 1px dotted var(--sklearn-color-border-box);\n",
       "  border-radius: 0.25em;\n",
       "  box-sizing: border-box;\n",
       "  margin-bottom: 0.5em;\n",
       "  /* unfitted */\n",
       "  background-color: var(--sklearn-color-unfitted-level-0);\n",
       "}\n",
       "\n",
       "#sk-container-id-17 div.sk-estimator.fitted {\n",
       "  /* fitted */\n",
       "  background-color: var(--sklearn-color-fitted-level-0);\n",
       "}\n",
       "\n",
       "/* on hover */\n",
       "#sk-container-id-17 div.sk-estimator:hover {\n",
       "  /* unfitted */\n",
       "  background-color: var(--sklearn-color-unfitted-level-2);\n",
       "}\n",
       "\n",
       "#sk-container-id-17 div.sk-estimator.fitted:hover {\n",
       "  /* fitted */\n",
       "  background-color: var(--sklearn-color-fitted-level-2);\n",
       "}\n",
       "\n",
       "/* Specification for estimator info (e.g. \"i\" and \"?\") */\n",
       "\n",
       "/* Common style for \"i\" and \"?\" */\n",
       "\n",
       ".sk-estimator-doc-link,\n",
       "a:link.sk-estimator-doc-link,\n",
       "a:visited.sk-estimator-doc-link {\n",
       "  float: right;\n",
       "  font-size: smaller;\n",
       "  line-height: 1em;\n",
       "  font-family: monospace;\n",
       "  background-color: var(--sklearn-color-background);\n",
       "  border-radius: 1em;\n",
       "  height: 1em;\n",
       "  width: 1em;\n",
       "  text-decoration: none !important;\n",
       "  margin-left: 0.5em;\n",
       "  text-align: center;\n",
       "  /* unfitted */\n",
       "  border: var(--sklearn-color-unfitted-level-1) 1pt solid;\n",
       "  color: var(--sklearn-color-unfitted-level-1);\n",
       "}\n",
       "\n",
       ".sk-estimator-doc-link.fitted,\n",
       "a:link.sk-estimator-doc-link.fitted,\n",
       "a:visited.sk-estimator-doc-link.fitted {\n",
       "  /* fitted */\n",
       "  border: var(--sklearn-color-fitted-level-1) 1pt solid;\n",
       "  color: var(--sklearn-color-fitted-level-1);\n",
       "}\n",
       "\n",
       "/* On hover */\n",
       "div.sk-estimator:hover .sk-estimator-doc-link:hover,\n",
       ".sk-estimator-doc-link:hover,\n",
       "div.sk-label-container:hover .sk-estimator-doc-link:hover,\n",
       ".sk-estimator-doc-link:hover {\n",
       "  /* unfitted */\n",
       "  background-color: var(--sklearn-color-unfitted-level-3);\n",
       "  color: var(--sklearn-color-background);\n",
       "  text-decoration: none;\n",
       "}\n",
       "\n",
       "div.sk-estimator.fitted:hover .sk-estimator-doc-link.fitted:hover,\n",
       ".sk-estimator-doc-link.fitted:hover,\n",
       "div.sk-label-container:hover .sk-estimator-doc-link.fitted:hover,\n",
       ".sk-estimator-doc-link.fitted:hover {\n",
       "  /* fitted */\n",
       "  background-color: var(--sklearn-color-fitted-level-3);\n",
       "  color: var(--sklearn-color-background);\n",
       "  text-decoration: none;\n",
       "}\n",
       "\n",
       "/* Span, style for the box shown on hovering the info icon */\n",
       ".sk-estimator-doc-link span {\n",
       "  display: none;\n",
       "  z-index: 9999;\n",
       "  position: relative;\n",
       "  font-weight: normal;\n",
       "  right: .2ex;\n",
       "  padding: .5ex;\n",
       "  margin: .5ex;\n",
       "  width: min-content;\n",
       "  min-width: 20ex;\n",
       "  max-width: 50ex;\n",
       "  color: var(--sklearn-color-text);\n",
       "  box-shadow: 2pt 2pt 4pt #999;\n",
       "  /* unfitted */\n",
       "  background: var(--sklearn-color-unfitted-level-0);\n",
       "  border: .5pt solid var(--sklearn-color-unfitted-level-3);\n",
       "}\n",
       "\n",
       ".sk-estimator-doc-link.fitted span {\n",
       "  /* fitted */\n",
       "  background: var(--sklearn-color-fitted-level-0);\n",
       "  border: var(--sklearn-color-fitted-level-3);\n",
       "}\n",
       "\n",
       ".sk-estimator-doc-link:hover span {\n",
       "  display: block;\n",
       "}\n",
       "\n",
       "/* \"?\"-specific style due to the `<a>` HTML tag */\n",
       "\n",
       "#sk-container-id-17 a.estimator_doc_link {\n",
       "  float: right;\n",
       "  font-size: 1rem;\n",
       "  line-height: 1em;\n",
       "  font-family: monospace;\n",
       "  background-color: var(--sklearn-color-background);\n",
       "  border-radius: 1rem;\n",
       "  height: 1rem;\n",
       "  width: 1rem;\n",
       "  text-decoration: none;\n",
       "  /* unfitted */\n",
       "  color: var(--sklearn-color-unfitted-level-1);\n",
       "  border: var(--sklearn-color-unfitted-level-1) 1pt solid;\n",
       "}\n",
       "\n",
       "#sk-container-id-17 a.estimator_doc_link.fitted {\n",
       "  /* fitted */\n",
       "  border: var(--sklearn-color-fitted-level-1) 1pt solid;\n",
       "  color: var(--sklearn-color-fitted-level-1);\n",
       "}\n",
       "\n",
       "/* On hover */\n",
       "#sk-container-id-17 a.estimator_doc_link:hover {\n",
       "  /* unfitted */\n",
       "  background-color: var(--sklearn-color-unfitted-level-3);\n",
       "  color: var(--sklearn-color-background);\n",
       "  text-decoration: none;\n",
       "}\n",
       "\n",
       "#sk-container-id-17 a.estimator_doc_link.fitted:hover {\n",
       "  /* fitted */\n",
       "  background-color: var(--sklearn-color-fitted-level-3);\n",
       "}\n",
       "\n",
       ".estimator-table summary {\n",
       "    padding: .5rem;\n",
       "    font-family: monospace;\n",
       "    cursor: pointer;\n",
       "}\n",
       "\n",
       ".estimator-table details[open] {\n",
       "    padding-left: 0.1rem;\n",
       "    padding-right: 0.1rem;\n",
       "    padding-bottom: 0.3rem;\n",
       "}\n",
       "\n",
       ".estimator-table .parameters-table {\n",
       "    margin-left: auto !important;\n",
       "    margin-right: auto !important;\n",
       "}\n",
       "\n",
       ".estimator-table .parameters-table tr:nth-child(odd) {\n",
       "    background-color: #fff;\n",
       "}\n",
       "\n",
       ".estimator-table .parameters-table tr:nth-child(even) {\n",
       "    background-color: #f6f6f6;\n",
       "}\n",
       "\n",
       ".estimator-table .parameters-table tr:hover {\n",
       "    background-color: #e0e0e0;\n",
       "}\n",
       "\n",
       ".estimator-table table td {\n",
       "    border: 1px solid rgba(106, 105, 104, 0.232);\n",
       "}\n",
       "\n",
       ".user-set td {\n",
       "    color:rgb(255, 94, 0);\n",
       "    text-align: left;\n",
       "}\n",
       "\n",
       ".user-set td.value pre {\n",
       "    color:rgb(255, 94, 0) !important;\n",
       "    background-color: transparent !important;\n",
       "}\n",
       "\n",
       ".default td {\n",
       "    color: black;\n",
       "    text-align: left;\n",
       "}\n",
       "\n",
       ".user-set td i,\n",
       ".default td i {\n",
       "    color: black;\n",
       "}\n",
       "\n",
       ".copy-paste-icon {\n",
       "    background-image: url(data:image/svg+xml;base64,PHN2ZyB4bWxucz0iaHR0cDovL3d3dy53My5vcmcvMjAwMC9zdmciIHZpZXdCb3g9IjAgMCA0NDggNTEyIj48IS0tIUZvbnQgQXdlc29tZSBGcmVlIDYuNy4yIGJ5IEBmb250YXdlc29tZSAtIGh0dHBzOi8vZm9udGF3ZXNvbWUuY29tIExpY2Vuc2UgLSBodHRwczovL2ZvbnRhd2Vzb21lLmNvbS9saWNlbnNlL2ZyZWUgQ29weXJpZ2h0IDIwMjUgRm9udGljb25zLCBJbmMuLS0+PHBhdGggZD0iTTIwOCAwTDMzMi4xIDBjMTIuNyAwIDI0LjkgNS4xIDMzLjkgMTQuMWw2Ny45IDY3LjljOSA5IDE0LjEgMjEuMiAxNC4xIDMzLjlMNDQ4IDMzNmMwIDI2LjUtMjEuNSA0OC00OCA0OGwtMTkyIDBjLTI2LjUgMC00OC0yMS41LTQ4LTQ4bDAtMjg4YzAtMjYuNSAyMS41LTQ4IDQ4LTQ4ek00OCAxMjhsODAgMCAwIDY0LTY0IDAgMCAyNTYgMTkyIDAgMC0zMiA2NCAwIDAgNDhjMCAyNi41LTIxLjUgNDgtNDggNDhMNDggNTEyYy0yNi41IDAtNDgtMjEuNS00OC00OEwwIDE3NmMwLTI2LjUgMjEuNS00OCA0OC00OHoiLz48L3N2Zz4=);\n",
       "    background-repeat: no-repeat;\n",
       "    background-size: 14px 14px;\n",
       "    background-position: 0;\n",
       "    display: inline-block;\n",
       "    width: 14px;\n",
       "    height: 14px;\n",
       "    cursor: pointer;\n",
       "}\n",
       "</style><body><div id=\"sk-container-id-17\" class=\"sk-top-container\"><div class=\"sk-text-repr-fallback\"><pre>AgglomerativeClustering(n_clusters=6)</pre><b>In a Jupyter environment, please rerun this cell to show the HTML representation or trust the notebook. <br />On GitHub, the HTML representation is unable to render, please try loading this page with nbviewer.org.</b></div><div class=\"sk-container\" hidden><div class=\"sk-item\"><div class=\"sk-estimator fitted sk-toggleable\"><input class=\"sk-toggleable__control sk-hidden--visually\" id=\"sk-estimator-id-17\" type=\"checkbox\" checked><label for=\"sk-estimator-id-17\" class=\"sk-toggleable__label fitted sk-toggleable__label-arrow\"><div><div>AgglomerativeClustering</div></div><div><a class=\"sk-estimator-doc-link fitted\" rel=\"noreferrer\" target=\"_blank\" href=\"https://scikit-learn.org/1.7/modules/generated/sklearn.cluster.AgglomerativeClustering.html\">?<span>Documentation for AgglomerativeClustering</span></a><span class=\"sk-estimator-doc-link fitted\">i<span>Fitted</span></span></div></label><div class=\"sk-toggleable__content fitted\" data-param-prefix=\"\">\n",
       "        <div class=\"estimator-table\">\n",
       "            <details>\n",
       "                <summary>Parameters</summary>\n",
       "                <table class=\"parameters-table\">\n",
       "                  <tbody>\n",
       "                    \n",
       "        <tr class=\"user-set\">\n",
       "            <td><i class=\"copy-paste-icon\"\n",
       "                 onclick=\"copyToClipboard('n_clusters',\n",
       "                          this.parentElement.nextElementSibling)\"\n",
       "            ></i></td>\n",
       "            <td class=\"param\">n_clusters&nbsp;</td>\n",
       "            <td class=\"value\">6</td>\n",
       "        </tr>\n",
       "    \n",
       "\n",
       "        <tr class=\"default\">\n",
       "            <td><i class=\"copy-paste-icon\"\n",
       "                 onclick=\"copyToClipboard('metric',\n",
       "                          this.parentElement.nextElementSibling)\"\n",
       "            ></i></td>\n",
       "            <td class=\"param\">metric&nbsp;</td>\n",
       "            <td class=\"value\">&#x27;euclidean&#x27;</td>\n",
       "        </tr>\n",
       "    \n",
       "\n",
       "        <tr class=\"default\">\n",
       "            <td><i class=\"copy-paste-icon\"\n",
       "                 onclick=\"copyToClipboard('memory',\n",
       "                          this.parentElement.nextElementSibling)\"\n",
       "            ></i></td>\n",
       "            <td class=\"param\">memory&nbsp;</td>\n",
       "            <td class=\"value\">None</td>\n",
       "        </tr>\n",
       "    \n",
       "\n",
       "        <tr class=\"default\">\n",
       "            <td><i class=\"copy-paste-icon\"\n",
       "                 onclick=\"copyToClipboard('connectivity',\n",
       "                          this.parentElement.nextElementSibling)\"\n",
       "            ></i></td>\n",
       "            <td class=\"param\">connectivity&nbsp;</td>\n",
       "            <td class=\"value\">None</td>\n",
       "        </tr>\n",
       "    \n",
       "\n",
       "        <tr class=\"default\">\n",
       "            <td><i class=\"copy-paste-icon\"\n",
       "                 onclick=\"copyToClipboard('compute_full_tree',\n",
       "                          this.parentElement.nextElementSibling)\"\n",
       "            ></i></td>\n",
       "            <td class=\"param\">compute_full_tree&nbsp;</td>\n",
       "            <td class=\"value\">&#x27;auto&#x27;</td>\n",
       "        </tr>\n",
       "    \n",
       "\n",
       "        <tr class=\"default\">\n",
       "            <td><i class=\"copy-paste-icon\"\n",
       "                 onclick=\"copyToClipboard('linkage',\n",
       "                          this.parentElement.nextElementSibling)\"\n",
       "            ></i></td>\n",
       "            <td class=\"param\">linkage&nbsp;</td>\n",
       "            <td class=\"value\">&#x27;ward&#x27;</td>\n",
       "        </tr>\n",
       "    \n",
       "\n",
       "        <tr class=\"default\">\n",
       "            <td><i class=\"copy-paste-icon\"\n",
       "                 onclick=\"copyToClipboard('distance_threshold',\n",
       "                          this.parentElement.nextElementSibling)\"\n",
       "            ></i></td>\n",
       "            <td class=\"param\">distance_threshold&nbsp;</td>\n",
       "            <td class=\"value\">None</td>\n",
       "        </tr>\n",
       "    \n",
       "\n",
       "        <tr class=\"default\">\n",
       "            <td><i class=\"copy-paste-icon\"\n",
       "                 onclick=\"copyToClipboard('compute_distances',\n",
       "                          this.parentElement.nextElementSibling)\"\n",
       "            ></i></td>\n",
       "            <td class=\"param\">compute_distances&nbsp;</td>\n",
       "            <td class=\"value\">False</td>\n",
       "        </tr>\n",
       "    \n",
       "                  </tbody>\n",
       "                </table>\n",
       "            </details>\n",
       "        </div>\n",
       "    </div></div></div></div></div><script>function copyToClipboard(text, element) {\n",
       "    // Get the parameter prefix from the closest toggleable content\n",
       "    const toggleableContent = element.closest('.sk-toggleable__content');\n",
       "    const paramPrefix = toggleableContent ? toggleableContent.dataset.paramPrefix : '';\n",
       "    const fullParamName = paramPrefix ? `${paramPrefix}${text}` : text;\n",
       "\n",
       "    const originalStyle = element.style;\n",
       "    const computedStyle = window.getComputedStyle(element);\n",
       "    const originalWidth = computedStyle.width;\n",
       "    const originalHTML = element.innerHTML.replace('Copied!', '');\n",
       "\n",
       "    navigator.clipboard.writeText(fullParamName)\n",
       "        .then(() => {\n",
       "            element.style.width = originalWidth;\n",
       "            element.style.color = 'green';\n",
       "            element.innerHTML = \"Copied!\";\n",
       "\n",
       "            setTimeout(() => {\n",
       "                element.innerHTML = originalHTML;\n",
       "                element.style = originalStyle;\n",
       "            }, 2000);\n",
       "        })\n",
       "        .catch(err => {\n",
       "            console.error('Failed to copy:', err);\n",
       "            element.style.color = 'red';\n",
       "            element.innerHTML = \"Failed!\";\n",
       "            setTimeout(() => {\n",
       "                element.innerHTML = originalHTML;\n",
       "                element.style = originalStyle;\n",
       "            }, 2000);\n",
       "        });\n",
       "    return false;\n",
       "}\n",
       "\n",
       "document.querySelectorAll('.fa-regular.fa-copy').forEach(function(element) {\n",
       "    const toggleableContent = element.closest('.sk-toggleable__content');\n",
       "    const paramPrefix = toggleableContent ? toggleableContent.dataset.paramPrefix : '';\n",
       "    const paramName = element.parentElement.nextElementSibling.textContent.trim();\n",
       "    const fullParamName = paramPrefix ? `${paramPrefix}${paramName}` : paramName;\n",
       "\n",
       "    element.setAttribute('title', fullParamName);\n",
       "});\n",
       "</script></body>"
      ],
      "text/plain": [
       "AgglomerativeClustering(n_clusters=6)"
      ]
     },
     "execution_count": 176,
     "metadata": {},
     "output_type": "execute_result"
    }
   ],
   "source": [
    "hier"
   ]
  },
  {
   "cell_type": "code",
   "execution_count": 177,
   "id": "dbc29e4e",
   "metadata": {},
   "outputs": [],
   "source": [
    "# cluster_hier"
   ]
  },
  {
   "cell_type": "code",
   "execution_count": 178,
   "id": "9fdddc9e",
   "metadata": {},
   "outputs": [
    {
     "data": {
      "image/png": "[encoded data removed]",
      "text/plain": [
       "<Figure size 1500x400 with 3 Axes>"
      ]
     },
     "metadata": {},
     "output_type": "display_data"
    }
   ],
   "source": [
    "plt.figure(figsize=(15, 4))\n",
    "\n",
    "plt.subplot(1, 3, 1)\n",
    "plt.title(\"K-Means\")\n",
    "plt.scatter(data_pca[:, 0], data_pca[:, 1], c=cluster_kmean)\n",
    "\n",
    "plt.subplot(1, 3, 2)\n",
    "plt.title(\"DBSCAN\")\n",
    "plt.scatter(data_pca[:, 0], data_pca[:, 1], c=cluster_dbscan)\n",
    "\n",
    "plt.subplot(1, 3, 3)\n",
    "plt.title(\"Hierarchical\")\n",
    "plt.scatter(data_pca[:, 0], data_pca[:, 1], c=cluster_hier)\n",
    "\n",
    "plt.show()\n"
   ]
  },
  {
   "cell_type": "code",
   "execution_count": 179,
   "id": "d2cab02d",
   "metadata": {},
   "outputs": [],
   "source": [
    "from sklearn.metrics import silhouette_score"
   ]
  },
  {
   "cell_type": "markdown",
   "id": "ad076e5d",
   "metadata": {},
   "source": [
    "Score clustring with silhouette-score"
   ]
  },
  {
   "cell_type": "code",
   "execution_count": 191,
   "id": "bfa450f7",
   "metadata": {},
   "outputs": [
    {
     "name": "stdout",
     "output_type": "stream",
     "text": [
      "Silhouette Score for K-Means: 0.848\n",
      "Silhouette Score for DBSCAN: 0.832\n",
      "Silhouette Score for Hierarchical: 0.832\n"
     ]
    }
   ],
   "source": [
    "name_cluser = [\"K-Means\", \"DBSCAN\", \"Hierarchical\"]\n",
    "list_cluster = [cluster_kmean, cluster_dbscan, cluster_hier]\n",
    "\n",
    "for i in range(len(list_cluster)):\n",
    "    sil_score = silhouette_score(data, list_cluster[i])\n",
    "    print(f\"Silhouette Score for {name_cluser[i]}: {sil_score:.3f}\")"
   ]
  },
  {
   "cell_type": "markdown",
   "id": "74d12e44",
   "metadata": {},
   "source": [
    "در این تمرین در دو الگوریتم اول که قابلیت انتخاب تعداد خوشه ها بود با نمایش آن و بررسی نمره خوشه بندی سعی شده بهترین حالت هر الگوریتم را نمایش داده بشه."
   ]
  },
  {
   "cell_type": "markdown",
   "id": "f8965df6",
   "metadata": {},
   "source": [
    "Score clustring with Davies-Bouldin"
   ]
  },
  {
   "cell_type": "code",
   "execution_count": 184,
   "id": "73c0b050",
   "metadata": {},
   "outputs": [],
   "source": [
    "from sklearn.metrics import davies_bouldin_score"
   ]
  },
  {
   "cell_type": "code",
   "execution_count": 190,
   "id": "5cc62be6",
   "metadata": {},
   "outputs": [
    {
     "name": "stdout",
     "output_type": "stream",
     "text": [
      "Davies-Bouldin Index for K-Means: 0.248\n",
      "Davies-Bouldin Index for DBSCAN: 0.266\n",
      "Davies-Bouldin Index for Hierarchical: 0.266\n"
     ]
    }
   ],
   "source": [
    "name_cluser = [\"K-Means\", \"DBSCAN\", \"Hierarchical\"]\n",
    "list_cluster = [cluster_kmean, cluster_dbscan, cluster_hier]\n",
    "\n",
    "for i in range(len(list_cluster)):\n",
    "    sil_score = davies_bouldin_score(data, list_cluster[i])\n",
    "    print(f\"Davies-Bouldin Index for {name_cluser[i]}: {sil_score:.3f}\")"
   ]
  },
  {
   "cell_type": "code",
   "execution_count": null,
   "id": "ca791e97",
   "metadata": {},
   "outputs": [],
   "source": []
  }
 ],
 "metadata": {
  "kernelspec": {
   "display_name": "algoritm-env",
   "language": "python",
   "name": "python3"
  },
  "language_info": {
   "codemirror_mode": {
    "name": "ipython",
    "version": 3
   },
   "file_extension": ".py",
   "mimetype": "text/x-python",
   "name": "python",
   "nbconvert_exporter": "python",
   "pygments_lexer": "ipython3",
   "version": "3.10.10"
  }
 },
 "nbformat": 4,
 "nbformat_minor": 5
}
